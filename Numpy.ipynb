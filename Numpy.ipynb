{
 "cells": [
  {
   "cell_type": "markdown",
   "id": "42cf5022",
   "metadata": {},
   "source": [
    "### Numpy\n",
    "\n",
    "- It deals with n-dimensional array"
   ]
  },
  {
   "cell_type": "code",
   "execution_count": 1,
   "id": "99ec3fa2",
   "metadata": {},
   "outputs": [],
   "source": [
    "import numpy as np"
   ]
  },
  {
   "cell_type": "code",
   "execution_count": 2,
   "id": "2401fad1",
   "metadata": {},
   "outputs": [
    {
     "name": "stdout",
     "output_type": "stream",
     "text": [
      "[1 2 3]\n",
      "1\n",
      "2\n"
     ]
    }
   ],
   "source": [
    "a=np.array([1,2,3])\n",
    "print(a)\n",
    "print(a.ndim)\n",
    "print(a[1])"
   ]
  },
  {
   "cell_type": "code",
   "execution_count": 3,
   "id": "3b74aa39",
   "metadata": {},
   "outputs": [
    {
     "name": "stdout",
     "output_type": "stream",
     "text": [
      "[[ 2  3  4]\n",
      " [ 4  5  6]\n",
      " [ 6  7  8]\n",
      " [ 9 10 11]]\n",
      "2\n",
      "4\n"
     ]
    }
   ],
   "source": [
    "d=np.array([[2,3,4],[4,5,6],\n",
    "            [6,7,8],[9,10,11]])\n",
    "print(d)\n",
    "print(d.ndim)\n",
    "print(d[0,2])"
   ]
  },
  {
   "cell_type": "code",
   "execution_count": 4,
   "id": "a2bd128a",
   "metadata": {},
   "outputs": [
    {
     "name": "stdout",
     "output_type": "stream",
     "text": [
      "[[[1 2 3]\n",
      "  [4 5 6]\n",
      "  [7 8 9]\n",
      "  [0 1 2]]]\n",
      "3\n",
      "2\n"
     ]
    }
   ],
   "source": [
    "three=np.array([[[1,2,3],[4,5,6],\n",
    "                [7,8,9],[0,1,2]]])\n",
    "print(three)\n",
    "print(three.ndim)\n",
    "print(three[0,0,1])"
   ]
  },
  {
   "cell_type": "code",
   "execution_count": 5,
   "id": "04fd96e7",
   "metadata": {},
   "outputs": [
    {
     "name": "stdout",
     "output_type": "stream",
     "text": [
      "1\n"
     ]
    }
   ],
   "source": [
    "print(len(three))"
   ]
  },
  {
   "cell_type": "code",
   "execution_count": 6,
   "id": "fead09a8",
   "metadata": {},
   "outputs": [
    {
     "name": "stdout",
     "output_type": "stream",
     "text": [
      "[[0 0 0]\n",
      " [0 0 0]\n",
      " [0 0 0]]\n"
     ]
    }
   ],
   "source": [
    "zeros=np.zeros((3,3),int)\n",
    "print(zeros)"
   ]
  },
  {
   "cell_type": "code",
   "execution_count": 7,
   "id": "2c04fcd6",
   "metadata": {},
   "outputs": [
    {
     "name": "stdout",
     "output_type": "stream",
     "text": [
      "[[1 1 1 1]\n",
      " [1 1 1 1]\n",
      " [1 1 1 1]\n",
      " [1 1 1 1]]\n"
     ]
    }
   ],
   "source": [
    "ones=np.ones((4,4),int)\n",
    "print(ones)"
   ]
  },
  {
   "cell_type": "code",
   "execution_count": 8,
   "id": "e4736702",
   "metadata": {},
   "outputs": [
    {
     "name": "stdout",
     "output_type": "stream",
     "text": [
      "[[1. 0. 0.]\n",
      " [0. 1. 0.]\n",
      " [0. 0. 1.]]\n"
     ]
    }
   ],
   "source": [
    "eye=np.eye(3,3)\n",
    "print(eye)"
   ]
  },
  {
   "cell_type": "code",
   "execution_count": 9,
   "id": "caaf574d",
   "metadata": {},
   "outputs": [
    {
     "name": "stdout",
     "output_type": "stream",
     "text": [
      "[[50 50 50]\n",
      " [50 50 50]\n",
      " [50 50 50]]\n"
     ]
    }
   ],
   "source": [
    "fulls=np.full((3,3),50)\n",
    "print(fulls)"
   ]
  },
  {
   "cell_type": "code",
   "execution_count": 10,
   "id": "3a1ddbb4",
   "metadata": {},
   "outputs": [
    {
     "name": "stdout",
     "output_type": "stream",
     "text": [
      "10\n"
     ]
    }
   ],
   "source": [
    "fing=np.random.randint(1,30)\n",
    "print(fing)"
   ]
  },
  {
   "cell_type": "code",
   "execution_count": 11,
   "id": "9937a088",
   "metadata": {},
   "outputs": [
    {
     "name": "stdout",
     "output_type": "stream",
     "text": [
      "Three-d array [[[ 3  4  5]\n",
      "  [ 5  6  7]\n",
      "  [ 8  9  0]]\n",
      "\n",
      " [[ 0 12 11]\n",
      "  [ 3  4 56]\n",
      "  [ 7  8  9]]\n",
      "\n",
      " [[99  0  1]\n",
      "  [ 2  3  4]\n",
      "  [ 5  6  7]]]\n",
      "shape of array (3, 3, 3)\n",
      "dim shape 3\n",
      "Acessing of element 6\n",
      "length of array: 3\n"
     ]
    }
   ],
   "source": [
    "three_dim=np.array([[[3,4,5],[5,6,7],[8,9,0]],\n",
    "                   [[0,12,11],[3,4,56],[7,8,9]],\n",
    "                    [[99,0,1],[2,3,4],[5,6,7]]])\n",
    "\n",
    "print(\"Three-d array\",three_dim)\n",
    "print(\"shape of array\",three_dim.shape)\n",
    "print(\"dim shape\",three_dim.ndim)\n",
    "print(\"Acessing of element\",three_dim[2,2,1])\n",
    "print(\"length of array:\",len(three_dim))"
   ]
  },
  {
   "cell_type": "code",
   "execution_count": 12,
   "id": "c285e22d",
   "metadata": {},
   "outputs": [
    {
     "name": "stdout",
     "output_type": "stream",
     "text": [
      "mean of array: 10.518518518518519\n",
      "Max of array: 99\n",
      "Min of array: 0\n",
      "median of array: 5.0\n",
      "variance of array 402.9163237311385\n",
      "Std of array: 20.07277568576749\n"
     ]
    }
   ],
   "source": [
    "print(\"mean of array:\",np.mean(three_dim))\n",
    "print(\"Max of array:\",np.max(three_dim))\n",
    "print(\"Min of array:\",np.min(three_dim))\n",
    "print(\"median of array:\",np.median(three_dim))\n",
    "print(\"variance of array\",np.var(three_dim))\n",
    "print(\"Std of array:\",np.std(three_dim))"
   ]
  },
  {
   "cell_type": "code",
   "execution_count": 13,
   "id": "259a39b8",
   "metadata": {},
   "outputs": [
    {
     "name": "stdout",
     "output_type": "stream",
     "text": [
      "2\n",
      "[[1 2 3]\n",
      " [4 5 6]\n",
      " [6 7 8]\n",
      " [9 1 2]\n",
      " [3 4 5]\n",
      " [5 6 7]\n",
      " [0 4 5]\n",
      " [5 6 7]\n",
      " [7 8 9]]\n"
     ]
    }
   ],
   "source": [
    "two_dim = np.array([[1, 2, 3], [4, 5, 6], [6, 7, 8],\n",
    "                    [9, 1, 2], [3, 4, 5], [5, 6,7],\n",
    "                   [0, 4, 5], [5, 6, 7], [7, 8, 9]])\n",
    "\n",
    "print(two_dim.ndim)\n",
    "print(two_dim)\n"
   ]
  },
  {
   "cell_type": "code",
   "execution_count": 14,
   "id": "38cb750e",
   "metadata": {},
   "outputs": [
    {
     "name": "stdout",
     "output_type": "stream",
     "text": [
      "[1. 2. 3. 4.]\n",
      "float32\n"
     ]
    }
   ],
   "source": [
    "arr=np.array([1,2,3,4],dtype='f')\n",
    "print(arr)\n",
    "print(arr.dtype)"
   ]
  },
  {
   "cell_type": "code",
   "execution_count": 15,
   "id": "fe672e09",
   "metadata": {},
   "outputs": [
    {
     "name": "stdout",
     "output_type": "stream",
     "text": [
      "[2 3 5]\n",
      "int32\n"
     ]
    }
   ],
   "source": [
    "arr1=np.array([2.3,3.4,5.6],dtype='i')\n",
    "print(arr1)\n",
    "print(arr1.dtype)"
   ]
  },
  {
   "cell_type": "code",
   "execution_count": 17,
   "id": "6875debf",
   "metadata": {},
   "outputs": [
    {
     "name": "stdout",
     "output_type": "stream",
     "text": [
      "[2 3 4 5 6]\n"
     ]
    }
   ],
   "source": [
    "arr2=np.array([2,3,4,5,6])\n",
    "x=arr2.copy()\n",
    "print(x)\n"
   ]
  },
  {
   "cell_type": "code",
   "execution_count": 19,
   "id": "06a51f50",
   "metadata": {},
   "outputs": [
    {
     "name": "stdout",
     "output_type": "stream",
     "text": [
      "[ 1  2  3  4  5  6  7  8  9  0 11 12]\n",
      "[[ 1  2  3  4]\n",
      " [ 5  6  7  8]\n",
      " [ 9  0 11 12]]\n"
     ]
    }
   ],
   "source": [
    "# reshaping of arrays\n",
    "arr3=np.array([1,2,3,4,5,6,7,8,9,0,11,12])\n",
    "print(arr3)\n",
    "y=arr3.reshape(3,4)\n",
    "print(y)"
   ]
  },
  {
   "cell_type": "code",
   "execution_count": 22,
   "id": "b18cdaf6",
   "metadata": {},
   "outputs": [
    {
     "name": "stdout",
     "output_type": "stream",
     "text": [
      "[[[ 1  2]\n",
      "  [ 3  4]\n",
      "  [ 5  6]]\n",
      "\n",
      " [[ 7  8]\n",
      "  [ 9  0]\n",
      "  [11 12]]]\n",
      "12\n"
     ]
    }
   ],
   "source": [
    "z=arr3.reshape(2,3,2)\n",
    "print(z)\n",
    "print(z.size)"
   ]
  },
  {
   "cell_type": "code",
   "execution_count": 24,
   "id": "088c5e17",
   "metadata": {},
   "outputs": [
    {
     "name": "stdout",
     "output_type": "stream",
     "text": [
      "[[[ 1  2]\n",
      "  [ 3  4]]\n",
      "\n",
      " [[ 5  6]\n",
      "  [ 7  8]]\n",
      "\n",
      " [[ 9  0]\n",
      "  [11 12]]]\n"
     ]
    }
   ],
   "source": [
    "w=arr3.reshape(3,2,2)\n",
    "print(w)"
   ]
  },
  {
   "cell_type": "code",
   "execution_count": 28,
   "id": "0e1d746b",
   "metadata": {},
   "outputs": [
    {
     "name": "stdout",
     "output_type": "stream",
     "text": [
      "[[3 2 4]\n",
      " [6 1 7]]\n",
      "[[2 3 4]\n",
      " [1 6 7]]\n"
     ]
    }
   ],
   "source": [
    "# sorting\n",
    "so=np.array([[3,2,4],[6,1,7]])\n",
    "print(so)\n",
    "s=np.sort(so)\n",
    "print(s)"
   ]
  },
  {
   "cell_type": "code",
   "execution_count": 30,
   "id": "1e279a85",
   "metadata": {},
   "outputs": [
    {
     "name": "stdout",
     "output_type": "stream",
     "text": [
      "[2]\n"
     ]
    }
   ],
   "source": [
    "#slicing\n",
    "print(arr3[1:2])"
   ]
  },
  {
   "cell_type": "code",
   "execution_count": 31,
   "id": "69eeeb4b",
   "metadata": {},
   "outputs": [
    {
     "name": "stdout",
     "output_type": "stream",
     "text": [
      "[[9 0]]\n"
     ]
    }
   ],
   "source": [
    "print(z[1,1:2])"
   ]
  },
  {
   "cell_type": "code",
   "execution_count": 33,
   "id": "d195c9db",
   "metadata": {},
   "outputs": [
    {
     "name": "stdout",
     "output_type": "stream",
     "text": [
      "[[ 3  5  7]\n",
      " [ 9 11 13]]\n",
      "[[ 1  1  1]\n",
      " [-1 -1 -1]]\n",
      "[[ 2  6 12]\n",
      " [20 30 42]]\n",
      "[[2.         1.5        1.33333333]\n",
      " [0.8        0.83333333 0.85714286]]\n",
      "[[0 1 1]\n",
      " [4 5 6]]\n"
     ]
    }
   ],
   "source": [
    "ar1=np.array([[2,3,4],[4,5,6]])\n",
    "ar2=np.array([[1,2,3],[5,6,7]])\n",
    "print(ar1+ar2)\n",
    "print(ar1-ar2)\n",
    "print(ar1*ar2)\n",
    "print(ar1/ar2)\n",
    "print(ar1%ar2)"
   ]
  },
  {
   "cell_type": "code",
   "execution_count": null,
   "id": "301c4fce",
   "metadata": {},
   "outputs": [],
   "source": []
  }
 ],
 "metadata": {
  "kernelspec": {
   "display_name": "Python 3 (ipykernel)",
   "language": "python",
   "name": "python3"
  },
  "language_info": {
   "codemirror_mode": {
    "name": "ipython",
    "version": 3
   },
   "file_extension": ".py",
   "mimetype": "text/x-python",
   "name": "python",
   "nbconvert_exporter": "python",
   "pygments_lexer": "ipython3",
   "version": "3.11.7"
  }
 },
 "nbformat": 4,
 "nbformat_minor": 5
}
